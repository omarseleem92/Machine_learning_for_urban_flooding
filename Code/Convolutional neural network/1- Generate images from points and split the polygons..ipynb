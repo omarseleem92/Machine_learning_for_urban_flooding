{
 "cells": [
  {
   "cell_type": "code",
   "execution_count": null,
   "metadata": {},
   "outputs": [],
   "source": [
    "import geopandas as gpd\n",
    "import glob\n",
    "import os\n",
    "from osgeo import ogr\n",
    "from osgeo import gdal\n",
    "import numpy as np\n",
    "import matplotlib.pyplot as plt"
   ]
  },
  {
   "cell_type": "code",
   "execution_count": null,
   "metadata": {},
   "outputs": [],
   "source": [
    "'''\n",
    "The below code does the following:\n",
    "     - Read the point shapefile\n",
    "     - convert the point to images - firstly it do a buffer around the point which generate a circle then convert the \n",
    "     cirvelt to olygon using envelope function\n",
    "     - Save the polygons shapefile\n",
    "     - iterate over the features in the polygon shapefile and save each feature in a seperated file\n",
    " \n",
    " Input:\n",
    " \n",
    "you need to enter the following:\n",
    "     - points shapefile.\n",
    "     - buffer distance - it depends on your image size\n",
    "     - directiry to save the splitted polygons\n",
    "     \n",
    "     \n",
    " Ouptut:\n",
    "     - splitted polygons saved in a directory\n",
    "\n",
    "'''"
   ]
  },
  {
   "cell_type": "code",
   "execution_count": null,
   "metadata": {},
   "outputs": [],
   "source": [
    "buffer_dist=128 #buffer distance = image size x spatial resolution /2\n",
    "file=\"Random_points.shp\""
   ]
  },
  {
   "cell_type": "code",
   "execution_count": null,
   "metadata": {},
   "outputs": [],
   "source": [
    "# Read in the shapefile\n",
    "points = gpd.read_file(file)\n",
    "\n",
    "# Create square buffers with a side length of buffer_dist units around the point features\n",
    "points['geometry'] = points.buffer(buffer_dist)\n",
    "\n",
    "points['geometry'] = points.geometry.envelope\n",
    "\n",
    "# Save the new shapefile\n",
    "points.to_file(\"Images.shp\")"
   ]
  },
  {
   "cell_type": "code",
   "execution_count": null,
   "metadata": {},
   "outputs": [],
   "source": [
    "# Iterate over each feature in the shapefile\n",
    "Images=gpd.read_file('Images.shp')\n",
    "Images"
   ]
  },
  {
   "cell_type": "code",
   "execution_count": null,
   "metadata": {},
   "outputs": [],
   "source": [
    "for index, feature in Images.iterrows():\n",
    "    # Create a new GeoDataFrame with just the current feature\n",
    "    #print(index)\n",
    "    \n",
    "    feature_gdf = Images.iloc[[index]]\n",
    "    #print(feature_gdf)\n",
    "    #print(feature_gdf['Label'][index])\n",
    "    \n",
    "    \n",
    "        \n",
    "    # Save the feature to a new shapefile\n",
    "    feature_gdf.to_file(r\"D:\\Images\\feature_{}.shp\".format(index))\n"
   ]
  }
 ],
 "metadata": {
  "kernelspec": {
   "display_name": "Python 3 (ipykernel)",
   "language": "python",
   "name": "python3"
  },
  "language_info": {
   "codemirror_mode": {
    "name": "ipython",
    "version": 3
   },
   "file_extension": ".py",
   "mimetype": "text/x-python",
   "name": "python",
   "nbconvert_exporter": "python",
   "pygments_lexer": "ipython3",
   "version": "3.11.2"
  }
 },
 "nbformat": 4,
 "nbformat_minor": 4
}
