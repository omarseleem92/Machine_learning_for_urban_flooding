{
 "cells": [
  {
   "cell_type": "code",
   "execution_count": null,
   "metadata": {},
   "outputs": [],
   "source": [
    "import numpy as np\n",
    "import matplotlib.pyplot as plt\n",
    "import rasterio\n",
    "import os\n",
    "import cv2\n",
    "import pandas as pd\n",
    "import rasterio as rio\n",
    "import gc\n",
    "import pickle"
   ]
  },
  {
   "cell_type": "code",
   "execution_count": null,
   "metadata": {},
   "outputs": [],
   "source": [
    "'''\n",
    "\n",
    "This code does the following:\n",
    "    - Read the cutted images of each predictive feature from previous step and save it in a list\n",
    "    - Convert the list of each predictive feature to a numpy array\n",
    "    - Join all the predictive features in one array\n",
    "    \n",
    "'''"
   ]
  },
  {
   "cell_type": "code",
   "execution_count": null,
   "metadata": {},
   "outputs": [],
   "source": [
    "IMG_SIZE=256"
   ]
  },
  {
   "cell_type": "code",
   "execution_count": null,
   "metadata": {},
   "outputs": [],
   "source": [
    "def create_training_data():\n",
    "    for idx, ls in enumerate(Predictive_features):\n",
    "        path=DATA_DIRs[idx]\n",
    "        \n",
    "        # To fill an array with the rainfall data\n",
    "        if ls ==\"RainDepth\":\n",
    "            path=DATA_DIRs[0]\n",
    "            with open('Rainfall.pkl', 'rb') as f:\n",
    "            Rainfall = pickle.load(f)\n",
    "            coumt=0\n",
    "            for img in os.listdir(path):\n",
    "                img_open=rio.open(os.path.join(path,img))\n",
    "                print(img)\n",
    "                img_array=img_open.read(1)\n",
    "                #plt.imshow(img_array,cmap=\"gray\")\n",
    "                #plt.show()\n",
    "                img_array= np.where(img_array > 0, Rainfall[count],Rainfall[count])\n",
    "                #mean=np.nanmean(img_array)\n",
    "                #img_array= np.where(np.isnan(img_array), mean,img_array)\n",
    "                #img_array[np.isnan(img_array)] = 0\n",
    "                #img_array = cv2.resize(img_array, (IMG_SIZE, IMG_SIZE))  # resize to normalize data size\n",
    "                ls.append(img_array)\n",
    "            \n",
    "        # other predictive features    \n",
    "        for img in os.listdir(path):\n",
    "                img_open=rio.open(os.path.join(path,img))\n",
    "                print(img)\n",
    "                img_array=img_open.read(1)\n",
    "                #plt.imshow(img_array,cmap=\"gray\")\n",
    "                #plt.show()\n",
    "                #img_array= np.where(img_array < 0, np.nan,img_array)\n",
    "                #mean=np.nanmean(img_array)\n",
    "                #img_array= np.where(np.isnan(img_array), mean,img_array)\n",
    "                #img_array[np.isnan(img_array)] = 0\n",
    "                #img_array = cv2.resize(img_array, (IMG_SIZE, IMG_SIZE))  # resize to normalize data size\n",
    "                ls.append(img_array)\n",
    "        \n",
    "                \n",
    "        "
   ]
  },
  {
   "cell_type": "code",
   "execution_count": null,
   "metadata": {},
   "outputs": [],
   "source": [
    "train_path=r\"D:\\USER\\seleem\\NRW\\Koeln\\Python\\Data_preperation\\Cutting_raster\\Github\\Training\"\n",
    "\n",
    "\n",
    "DEM_DATADIR=os.path.join(train_path,\"DEM\")\n",
    "SDepth_DATADIR=os.path.join(train_path,\"SDepth\")\n",
    "WDepth_DATADIR=os.path.join(train_path,\"WDepth\")\n",
    "TWI_DATADIR=os.path.join(train_path,\"TWI\")\n",
    "CN_DATADIR=os.path.join(train_path,\"CN\")\n",
    "TPI_DATADIR=os.path.join(train_path,\"TPI\")\n",
    "Cos_Aspect_DATADIR=os.path.join(train_path,\"Cos_Aspect\")\n",
    "Sin_Aspect_DATADIR=os.path.join(train_path,\"Sin_Aspect\")\n",
    "Curvature_DATADIR=os.path.join(train_path,\"Curvature\")\n",
    "DEML_DATADIR=os.path.join(train_path,\"DEML\")\n",
    "Flow_acc_DATADIR=os.path.join(train_path,\"Flow_acc\")\n",
    "Slope_DATADIR=os.path.join(train_path,\"Slope\")\n",
    "Roughness_DATADIR=os.path.join(train_path,\"Roughness_LU\")\n",
    "Rainfall_DATADIR=os.path.join(train_path,\"Rainfall\") \n",
    "\n",
    "\n",
    "DATA_DIRs=[DEM_DATADIR,SDepth_DATADIR,WDepth_DATADIR,TWI_DATADIR,CN_DATADIR,\n",
    "          TPI_DATADIR,Cos_Aspect_DATADIR,Sin_Aspect_DATADIR,Curvature_DATADIR,\n",
    "          DEML_DATADIR,Flow_acc_DATADIR,Slope_DATADIR,Roughness_DATADIR,Rainfall_DATADIR]\n",
    "\n",
    "\n",
    "\n",
    "DEM=[]\n",
    "SDepth=[]\n",
    "WDepth=[]\n",
    "TWI=[]\n",
    "CN=[]\n",
    "TPI=[]\n",
    "Cos_Apsect=[]\n",
    "Sin_Apsect=[]\n",
    "Curvature=[]\n",
    "DEML=[]\n",
    "Flow_acc=[]\n",
    "Slope=[]\n",
    "Roughness=[]\n",
    "RainDepth=[]\n",
    "\n",
    "Predictive_features=[DEM,SDepth,WDepth,TWI,CN,\n",
    "                    TPI,Cos_Apsect,Sin_Apsect,Curvature,\n",
    "                    DEML,Flow_acc,Slope,Roughness,RainDepth]   "
   ]
  },
  {
   "cell_type": "code",
   "execution_count": null,
   "metadata": {},
   "outputs": [],
   "source": [
    "create_training_data()"
   ]
  },
  {
   "cell_type": "code",
   "execution_count": null,
   "metadata": {},
   "outputs": [],
   "source": [
    "# Check number of images\n",
    "len(DEM)"
   ]
  },
  {
   "cell_type": "code",
   "execution_count": null,
   "metadata": {},
   "outputs": [],
   "source": [
    "# check image size\n",
    "DEM[0].shape"
   ]
  },
  {
   "cell_type": "code",
   "execution_count": null,
   "metadata": {},
   "outputs": [],
   "source": [
    "# plot one image\n",
    "plt.imshow(SDepth[0],cmap=\"gray\")"
   ]
  },
  {
   "cell_type": "code",
   "execution_count": null,
   "metadata": {},
   "outputs": [],
   "source": [
    "# convert the list to numpy arrays\n",
    "DEM_array=np.array(DEM).reshape(-1, IMG_SIZE, IMG_SIZE, 1)\n",
    "SDepth_array=np.array(SDepth).reshape(-1, IMG_SIZE, IMG_SIZE, 1)\n",
    "RainDepth_array=np.array(RainDepth).reshape(-1, IMG_SIZE, IMG_SIZE, 1)\n",
    "WD_array=np.array(WDepth).reshape(-1, IMG_SIZE, IMG_SIZE, 1)\n",
    "CN_array=np.array(CN).reshape(-1, IMG_SIZE, IMG_SIZE, 1)\n",
    "DEML_array=np.array(DEML).reshape(-1, IMG_SIZE, IMG_SIZE, 1)\n",
    "Slope_array=np.array(Slope).reshape(-1, IMG_SIZE, IMG_SIZE, 1)\n",
    "Cos_Aspect_array=np.array(Sin_Aspect).reshape(-1, IMG_SIZE, IMG_SIZE, 1)\n",
    "Sin_Aspect_array=np.array(Sin_Aspect).reshape(-1, IMG_SIZE, IMG_SIZE, 1)\n",
    "Curvature_array=np.array(Curvature).reshape(-1, IMG_SIZE, IMG_SIZE, 1)\n",
    "TWI_array=np.array(TWI).reshape(-1, IMG_SIZE, IMG_SIZE, 1)\n",
    "TPI_array=np.array(TPI).reshape(-1, IMG_SIZE, IMG_SIZE, 1)\n",
    "Flow_acc_array=np.array(Flow_acc).reshape(-1, IMG_SIZE, IMG_SIZE, 1)\n",
    "Roughness_array=np.array(Roughness).reshape(-1, IMG_SIZE, IMG_SIZE, 1)"
   ]
  },
  {
   "cell_type": "code",
   "execution_count": null,
   "metadata": {},
   "outputs": [],
   "source": [
    "# Release the memory\n",
    "del([DEM,\n",
    "    SDepth,\n",
    "    RainDepth,\n",
    "    WDepth,\n",
    "    CN,\n",
    "    DEML,\n",
    "    Slope,\n",
    "    Cos_Aspect,\n",
    "    Sin_Aspect,\n",
    "    Curvature,\n",
    "    TWI,\n",
    "    TPI,\n",
    "    Flow_acc,\n",
    "    Roughness])\n",
    "gc.collect()"
   ]
  },
  {
   "cell_type": "code",
   "execution_count": null,
   "metadata": {},
   "outputs": [],
   "source": [
    "# join all the predictive features in one array\n",
    "X_array=np.concatenate([DEM_array,\n",
    "                       SDepth_array,\n",
    "                       RainDepth_array,\n",
    "                       CN_array,\n",
    "                       DEML_array,\n",
    "                       Slope_array,\n",
    "                       Cos_Aspect_array,\n",
    "                       Sin_Aspect_array\n",
    "                       Curvature_array,\n",
    "                       TWI_array,\n",
    "                       TPI_array,\n",
    "                       Flow_acc_array,\n",
    "                       Roughness_array], axis=-1)"
   ]
  },
  {
   "cell_type": "code",
   "execution_count": null,
   "metadata": {},
   "outputs": [],
   "source": [
    "np.save(\"X_train.npy\",X_array)\n",
    "np.save(\"y_train.npy\",WD_array)"
   ]
  },
  {
   "cell_type": "code",
   "execution_count": null,
   "metadata": {},
   "outputs": [],
   "source": []
  }
 ],
 "metadata": {
  "kernelspec": {
   "display_name": "Python 3",
   "language": "python",
   "name": "python3"
  },
  "language_info": {
   "codemirror_mode": {
    "name": "ipython",
    "version": 3
   },
   "file_extension": ".py",
   "mimetype": "text/x-python",
   "name": "python",
   "nbconvert_exporter": "python",
   "pygments_lexer": "ipython3",
   "version": "3.7.9"
  }
 },
 "nbformat": 4,
 "nbformat_minor": 5
}
