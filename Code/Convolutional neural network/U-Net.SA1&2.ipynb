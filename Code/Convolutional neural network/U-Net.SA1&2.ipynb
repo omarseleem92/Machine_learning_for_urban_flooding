{
 "cells": [
  {
   "cell_type": "code",
   "execution_count": null,
   "id": "ee65529e",
   "metadata": {},
   "outputs": [],
   "source": [
    "import numpy as np\n",
    "import matplotlib.pyplot as plt\n",
    "import rasterio\n",
    "import os\n",
    "import cv2\n",
    "import keras \n",
    "from keras.utils import normalize\n",
    "from keras import *\n",
    "import pandas as pd\n",
    "import tensorflow as tf\n"
   ]
  },
  {
   "cell_type": "code",
   "execution_count": null,
   "id": "e0fe9482",
   "metadata": {},
   "outputs": [],
   "source": [
    "x_train_val=np.load('x_train_val.npy')\n",
    "y_train_val=np.load('y_train_val.npy')"
   ]
  },
  {
   "cell_type": "code",
   "execution_count": null,
   "id": "db906f62",
   "metadata": {},
   "outputs": [],
   "source": [
    "IMG_WIDTH = 256\n",
    "IMG_HEIGHT = 256\n",
    "IMG_CHANNELS = 13"
   ]
  },
  {
   "cell_type": "code",
   "execution_count": null,
   "id": "e66fc353",
   "metadata": {},
   "outputs": [],
   "source": [
    "#Build the model\n",
    "# The input array shape is (number of training images, IMG_WIDTH, IMG_HEIGHT, IMG_CHANNELS). \n",
    "# We used 256 x 256 image size and 13 img channels which represent the 13 predictive features\n",
    "inputs = tf.keras.layers.Input((IMG_HEIGHT, IMG_WIDTH, IMG_CHANNELS))\n",
    "#s = tf.keras.layers.Lambda(lambda x: x / 255)(inputs)\n"
   ]
  },
  {
   "cell_type": "code",
   "execution_count": null,
   "id": "d7f60e19",
   "metadata": {},
   "outputs": [],
   "source": [
    "#Contraction path\n",
    "c1 = tf.keras.layers.Conv2D(32, (3, 3), kernel_initializer='he_normal', padding='same',use_bias=False)(inputs)\n",
    "c1 = tf.keras.layers.BatchNormalization()(c1)\n",
    "c1 = tf.keras.layers.LeakyReLU(alpha=0.2)(c1)\n",
    "c1 = tf.keras.layers.Dropout(0.5)(c1)\n",
    "c1 = tf.keras.layers.Conv2D(32, (3, 3), kernel_initializer='he_normal', padding='same',use_bias=False)(c1)\n",
    "c1 = tf.keras.layers.BatchNormalization()(c1)\n",
    "c1 = tf.keras.layers.LeakyReLU(alpha=0.2)(c1)\n",
    "c1 = tf.keras.layers.Dropout(0.5)(c1)\n",
    "p1 = tf.keras.layers.AveragePooling2D((2, 2))(c1)\n",
    "\n",
    "c2 = tf.keras.layers.Conv2D(64, (3, 3), kernel_initializer='he_normal', padding='same',use_bias=False)(p1)\n",
    "c2 = tf.keras.layers.BatchNormalization()(c2)\n",
    "c2 = tf.keras.layers.LeakyReLU(alpha=0.2)(c2)\n",
    "c2 = tf.keras.layers.Dropout(0.5)(c2)\n",
    "c2 = tf.keras.layers.Conv2D(64, (3, 3), kernel_initializer='he_normal', padding='same',use_bias=False)(c2)\n",
    "c2 = tf.keras.layers.BatchNormalization()(c2)\n",
    "c2 = tf.keras.layers.LeakyReLU(alpha=0.2)(c2)\n",
    "c2 = tf.keras.layers.Dropout(0.5)(c2)\n",
    "p2 = tf.keras.layers.AveragePooling2D((2, 2))(c2)\n",
    " \n",
    "c3 = tf.keras.layers.Conv2D(128, (3, 3), kernel_initializer='he_normal', padding='same',use_bias=False)(p2)\n",
    "c3 = tf.keras.layers.BatchNormalization()(c3)\n",
    "c3 = tf.keras.layers.LeakyReLU(alpha=0.2)(c3)\n",
    "c3 = tf.keras.layers.Dropout(0.5)(c3)\n",
    "c3 = tf.keras.layers.Conv2D(128, (3, 3), kernel_initializer='he_normal', padding='same',use_bias=False)(c3)\n",
    "c3 = tf.keras.layers.BatchNormalization()(c3)\n",
    "c3 = tf.keras.layers.LeakyReLU(alpha=0.2)(c3)\n",
    "c3 = tf.keras.layers.Dropout(0.5)(c3)\n",
    "p3 = tf.keras.layers.AveragePooling2D((2, 2))(c3)\n",
    " \n",
    "c4 = tf.keras.layers.Conv2D(256, (3, 3), kernel_initializer='he_normal', padding='same',use_bias=False)(p3)\n",
    "c4 = tf.keras.layers.BatchNormalization()(c4)\n",
    "c4 = tf.keras.layers.LeakyReLU(alpha=0.2)(c4)\n",
    "c4 = tf.keras.layers.Dropout(0.5)(c4)\n",
    "c4 = tf.keras.layers.Conv2D(256, (3, 3), kernel_initializer='he_normal', padding='same',use_bias=False)(c4)\n",
    "c4 = tf.keras.layers.BatchNormalization()(c4)\n",
    "c4 = tf.keras.layers.LeakyReLU(alpha=0.2)(c4)\n",
    "c4 = tf.keras.layers.Dropout(0.5)(c4)\n",
    "p4 = tf.keras.layers.AveragePooling2D(pool_size=(2, 2))(c4)\n",
    " \n",
    "c5 = tf.keras.layers.Conv2D(512, (3, 3), kernel_initializer='he_normal', padding='same',use_bias=False)(p4)\n",
    "c5 = tf.keras.layers.BatchNormalization()(c5)\n",
    "c5 = tf.keras.layers.LeakyReLU(alpha=0.2)(c5)\n",
    "c5 = tf.keras.layers.Dropout(0.5)(c5)\n",
    "c5 = tf.keras.layers.Conv2D(512, (3, 3), kernel_initializer='he_normal', padding='same',use_bias=False)(c5)\n",
    "c5 = tf.keras.layers.BatchNormalization()(c5)\n",
    "c5 = tf.keras.layers.LeakyReLU(alpha=0.2)(c5)\n",
    "c5 = tf.keras.layers.Dropout(0.5)(c5)\n"
   ]
  },
  {
   "cell_type": "code",
   "execution_count": null,
   "id": "bf080990",
   "metadata": {},
   "outputs": [],
   "source": [
    "#Expansive path \n",
    "u6 = tf.keras.layers.Conv2DTranspose(256, (2, 2), strides=(2, 2), padding='same')(c5)\n",
    "u6 = tf.keras.layers.concatenate([u6, c4])\n",
    "c6 = tf.keras.layers.Conv2D(256, (3, 3), kernel_initializer='he_normal', padding='same',use_bias=False)(u6)\n",
    "c6 = tf.keras.layers.BatchNormalization()(c6)\n",
    "c6 = tf.keras.layers.LeakyReLU(alpha=0.2)(c6)\n",
    "c6 = tf.keras.layers.Dropout(0.5)(c6)\n",
    "c6 = tf.keras.layers.Conv2D(256, (3, 3), kernel_initializer='he_normal', padding='same',use_bias=False)(c6)\n",
    "c6 = tf.keras.layers.BatchNormalization()(c6)\n",
    "c6 = tf.keras.layers.LeakyReLU(alpha=0.2)(c6)\n",
    "c6 = tf.keras.layers.Dropout(0.5)(c6)\n",
    "\n",
    " \n",
    "u7 = tf.keras.layers.Conv2DTranspose(128, (2, 2), strides=(2, 2), padding='same')(c6)\n",
    "u7 = tf.keras.layers.concatenate([u7, c3])\n",
    "c7 = tf.keras.layers.Conv2D(128, (3, 3), kernel_initializer='he_normal', padding='same',use_bias=False)(u7)\n",
    "c7 = tf.keras.layers.BatchNormalization()(c7)\n",
    "c7 = tf.keras.layers.LeakyReLU(alpha=0.2)(c7)\n",
    "c7 = tf.keras.layers.Dropout(0.5)(c7)\n",
    "c7 = tf.keras.layers.Conv2D(128, (3, 3), kernel_initializer='he_normal', padding='same',use_bias=False)(c7)\n",
    "c7 = tf.keras.layers.BatchNormalization()(c7)\n",
    "c7 = tf.keras.layers.LeakyReLU(alpha=0.2)(c7)\n",
    "c7 = tf.keras.layers.Dropout(0.5)(c7)\n",
    "\n",
    "u8 = tf.keras.layers.Conv2DTranspose(64, (2, 2), strides=(2, 2), padding='same')(c7)\n",
    "u8 = tf.keras.layers.concatenate([u8, c2])\n",
    "c8 = tf.keras.layers.Conv2D(64, (3, 3), kernel_initializer='he_normal', padding='same',use_bias=False)(u8)\n",
    "c8 = tf.keras.layers.BatchNormalization()(c8)\n",
    "c8 = tf.keras.layers.LeakyReLU(alpha=0.2)(c8)\n",
    "c8 = tf.keras.layers.Dropout(0.5)(c8)\n",
    "c8 = tf.keras.layers.Conv2D(64, (3, 3), kernel_initializer='he_normal', padding='same',use_bias=False)(c8)\n",
    "c8 = tf.keras.layers.BatchNormalization()(c8)\n",
    "c8 = tf.keras.layers.LeakyReLU(alpha=0.2)(c8)\n",
    "c8 = tf.keras.layers.Dropout(0.5)(c8)\n",
    " \n",
    "u9 = tf.keras.layers.Conv2DTranspose(32, (2, 2), strides=(2, 2), padding='same')(c8)\n",
    "u9 = tf.keras.layers.concatenate([u9, c1], axis=3)\n",
    "c9 = tf.keras.layers.Conv2D(32, (3, 3), kernel_initializer='he_normal', padding='same',use_bias=False)(u9)\n",
    "c9 = tf.keras.layers.BatchNormalization()(c9)\n",
    "c9 = tf.keras.layers.LeakyReLU(alpha=0.2)(c9)\n",
    "c9 = tf.keras.layers.Dropout(0.5)(c9)\n",
    "c9 = tf.keras.layers.Conv2D(32, (3, 3), kernel_initializer='he_normal', padding='same',use_bias=False)(c9)\n",
    "c9 = tf.keras.layers.BatchNormalization()(c9)\n",
    "c9 = tf.keras.layers.LeakyReLU(alpha=0.2)(c9)\n",
    "c9 = tf.keras.layers.Dropout(0.5)(c9)"
   ]
  },
  {
   "cell_type": "code",
   "execution_count": null,
   "id": "feff49c4",
   "metadata": {},
   "outputs": [],
   "source": [
    "outputs = tf.keras.layers.Conv2D(1, (1, 1), padding='SAME')(c9)"
   ]
  },
  {
   "cell_type": "code",
   "execution_count": null,
   "id": "d4806a6b",
   "metadata": {},
   "outputs": [],
   "source": [
    "model = tf.keras.Model(inputs=[inputs], outputs=[outputs])\n",
    "\n",
    "\n",
    "optimizer = tf.keras.optimizers.Adam(beta_1=0.9, beta_2=0.999, epsilon=1e-07, amsgrad=False, name='Adam')\n",
    "\n",
    "model.compile(optimizer=optimizer, loss=['mse'], loss_weights=[1],metrics=['accuracy'])\n",
    "model.summary()"
   ]
  },
  {
   "cell_type": "code",
   "execution_count": null,
   "id": "52092079",
   "metadata": {},
   "outputs": [],
   "source": [
    "#Modelcheckpoint\n",
    "from keras.callbacks import ModelCheckpoint, EarlyStopping,TensorBoard\n",
    "from datetime import datetime\n",
    "start_time = datetime.now()\n",
    "NAME=\"U_Net_SA1&2\"\n",
    "checkpointer = ModelCheckpoint(\"U_Net_SA1.h5\", monitor='val_loss', verbose=1, save_best_only=True, save_weights_only=False, mode='auto', period=1)\n",
    "early = EarlyStopping(monitor='val_loss', min_delta=0, patience=5, verbose=1, mode='auto')\n",
    "tensorboard = TensorBoard(log_dir=\"logs/{}\".format(NAME))\n",
    "\n",
    "\n",
    "\n",
    "history = model.fit(x_train_val, y_train_val, validation_split=0.25, batch_size=10, epochs=500, callbacks=[checkpointer,early,tensorboard])\n",
    "end_time = datetime.now()\n",
    "print('Duration: {}'.format(end_time - start_time))\n"
   ]
  },
  {
   "cell_type": "code",
   "execution_count": null,
   "id": "b9ceaae7",
   "metadata": {},
   "outputs": [],
   "source": []
  },
  {
   "cell_type": "code",
   "execution_count": null,
   "id": "620a30c9",
   "metadata": {},
   "outputs": [],
   "source": []
  }
 ],
 "metadata": {
  "kernelspec": {
   "display_name": "Python 3 (ipykernel)",
   "language": "python",
   "name": "python3"
  },
  "language_info": {
   "codemirror_mode": {
    "name": "ipython",
    "version": 3
   },
   "file_extension": ".py",
   "mimetype": "text/x-python",
   "name": "python",
   "nbconvert_exporter": "python",
   "pygments_lexer": "ipython3",
   "version": "3.10.5"
  }
 },
 "nbformat": 4,
 "nbformat_minor": 5
}
