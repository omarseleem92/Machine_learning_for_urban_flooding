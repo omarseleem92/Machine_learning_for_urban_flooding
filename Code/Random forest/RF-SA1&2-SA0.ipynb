{
 "cells": [
  {
   "cell_type": "code",
   "execution_count": null,
   "metadata": {},
   "outputs": [],
   "source": [
    "import pandas as pd\n",
    "import geopandas as gpd\n",
    "import numpy as np\n",
    "import matplotlib.pyplot as plt\n",
    "#import seaborn as sns"
   ]
  },
  {
   "cell_type": "markdown",
   "metadata": {},
   "source": [
    "# Read training and testing data for SA1 and SA2"
   ]
  },
  {
   "cell_type": "code",
   "execution_count": null,
   "metadata": {},
   "outputs": [],
   "source": [
    "#Read the training data for SA1 as a dataframe\n",
    "df_RF_train_hotspot1=pd.read_pickle(r'D:\\user\\seleem\\Urban_Inundation\\Divided_hotspots\\New\\Final\\Data\\df_hotspot1_RF_train.pkl')\n",
    "df_RF_train_hotspot1"
   ]
  },
  {
   "cell_type": "code",
   "execution_count": null,
   "metadata": {},
   "outputs": [],
   "source": [
    "#Read the training data for SA2 as a dataframe\n",
    "df_RF_train_hotspot2=pd.read_pickle(r'D:\\user\\seleem\\Urban_Inundation\\Divided_hotspots\\New\\Final\\Data\\df_hotspot2_RF_train.pkl')\n",
    "df_RF_train_hotspot2"
   ]
  },
  {
   "cell_type": "code",
   "execution_count": null,
   "metadata": {},
   "outputs": [],
   "source": [
    "#Read the testing data for SA1 as a dataframe\n",
    "df_RF_test_hotspot1=pd.read_pickle(r'D:\\user\\seleem\\Urban_Inundation\\Divided_hotspots\\New\\Final\\Data\\df_hotspot1_RF_test.pkl')\n",
    "df_RF_test_hotspot1"
   ]
  },
  {
   "cell_type": "code",
   "execution_count": null,
   "metadata": {},
   "outputs": [],
   "source": [
    "#Read the testing data for SA2 as a dataframe\n",
    "df_RF_test_hotspot2=pd.read_pickle(r'D:\\user\\seleem\\Urban_Inundation\\Divided_hotspots\\New\\Final\\Data\\df_hotspot2_RF_test.pkl')\n",
    "df_RF_test_hotspot2"
   ]
  },
  {
   "cell_type": "code",
   "execution_count": null,
   "metadata": {},
   "outputs": [],
   "source": [
    "# Joining the training dataframes\n",
    "df_RF_train=pd.concat([df_RF_train_hotspot1,df_RF_train_hotspot2])\n",
    "df_RF_train"
   ]
  },
  {
   "cell_type": "code",
   "execution_count": null,
   "metadata": {},
   "outputs": [],
   "source": [
    "# prepare the training predictive features\n",
    "X_train=df_RF_train.drop(labels = [\"Depth\"], axis=1)\n",
    "X_train"
   ]
  },
  {
   "cell_type": "code",
   "execution_count": null,
   "metadata": {},
   "outputs": [],
   "source": [
    "# prepare the testing predictive features for SA1\n",
    "\n",
    "X_test_1=df_RF_test_hotspot1.drop(labels = [\"Depth\"], axis=1)\n",
    "X_test_1"
   ]
  },
  {
   "cell_type": "code",
   "execution_count": null,
   "metadata": {},
   "outputs": [],
   "source": [
    "# prepare the testing predictive features for SA1\n",
    "X_test_2=df_RF_test_hotspot2.drop(labels = [\"Depth\"], axis=1)\n",
    "X_test_2"
   ]
  },
  {
   "cell_type": "code",
   "execution_count": null,
   "metadata": {},
   "outputs": [],
   "source": [
    "# prepare the target for training dataset\n",
    "\n",
    "y_train=df_RF_train['Depth']\n",
    "y_train"
   ]
  },
  {
   "cell_type": "code",
   "execution_count": null,
   "metadata": {},
   "outputs": [],
   "source": [
    "# prepare the target for testing SA1\n",
    "\n",
    "y_test_1=df_RF_test_hotspot1['Depth']\n",
    "y_test_1"
   ]
  },
  {
   "cell_type": "code",
   "execution_count": null,
   "metadata": {},
   "outputs": [],
   "source": [
    "# prepare the target for testing SA2\n",
    "\n",
    "y_test_2=df_RF_test_hotspot2['Depth']\n",
    "y_test_2"
   ]
  },
  {
   "cell_type": "code",
   "execution_count": null,
   "metadata": {},
   "outputs": [],
   "source": [
    "#RANDOM FOREST model \n",
    "# The warmstart allow the model to add aditinal trees to the pre-trained model\n",
    "from sklearn.ensemble import RandomForestRegressor\n",
    "model = RandomForestRegressor(n_estimators = 10, random_state = 42,n_jobs=30,warm_start=True)"
   ]
  },
  {
   "cell_type": "code",
   "execution_count": null,
   "metadata": {},
   "outputs": [],
   "source": [
    "X_train"
   ]
  },
  {
   "cell_type": "code",
   "execution_count": null,
   "metadata": {},
   "outputs": [],
   "source": [
    "# Select randomly 10 % of the available data to train the model\n",
    "X_train=df_RF_train.sample(frac=0.1,random_state=42)\n",
    "X_train"
   ]
  },
  {
   "cell_type": "code",
   "execution_count": null,
   "metadata": {},
   "outputs": [],
   "source": [
    "# The training target\n",
    "y_train=X_train['Depth']\n",
    "y_train"
   ]
  },
  {
   "cell_type": "code",
   "execution_count": null,
   "metadata": {},
   "outputs": [],
   "source": [
    "X_train=X_train.drop(labels = [\"Depth\"], axis=1)\n",
    "X_train"
   ]
  },
  {
   "cell_type": "code",
   "execution_count": null,
   "metadata": {},
   "outputs": [],
   "source": [
    "from datetime import datetime\n",
    "start_time = datetime.now()\n",
    "# Train the model on training data\n",
    "model.fit(X_train, y_train)\n",
    "\n",
    "end_time = datetime.now()\n",
    "print('Duration: {}'.format(end_time - start_time))"
   ]
  },
  {
   "cell_type": "markdown",
   "metadata": {},
   "source": [
    "# Prediction SA1"
   ]
  },
  {
   "cell_type": "code",
   "execution_count": null,
   "metadata": {},
   "outputs": [],
   "source": [
    "prediction_1 = model.predict(X_test_1)"
   ]
  },
  {
   "cell_type": "code",
   "execution_count": null,
   "metadata": {},
   "outputs": [],
   "source": [
    "from sklearn import metrics\n",
    "\n",
    "print('Mean Absolute Error (MAE):', metrics.mean_absolute_error(y_test_1, prediction_1))\n",
    "print('Mean Squared Error (MSE):', metrics.mean_squared_error(y_test_1, prediction_1))\n",
    "print('Root Mean Squared Error (RMSE):', np.sqrt(metrics.mean_squared_error(y_test_1, prediction_1)))\n",
    "print('R2:',metrics.r2_score(y_test_1, prediction_1))\n"
   ]
  },
  {
   "cell_type": "code",
   "execution_count": null,
   "metadata": {},
   "outputs": [],
   "source": [
    "import hydroeval as he"
   ]
  },
  {
   "cell_type": "code",
   "execution_count": null,
   "metadata": {},
   "outputs": [],
   "source": [
    "nse = he.evaluator(he.nse, prediction_1, y_test_1)\n",
    "nse"
   ]
  },
  {
   "cell_type": "code",
   "execution_count": null,
   "metadata": {},
   "outputs": [],
   "source": [
    "feat_importances = pd.Series(model.feature_importances_, index=X_train.columns)\n",
    "feat_importances.nlargest(13).plot(kind='barh')"
   ]
  },
  {
   "cell_type": "markdown",
   "metadata": {},
   "source": [
    "# Prediction SA2"
   ]
  },
  {
   "cell_type": "code",
   "execution_count": null,
   "metadata": {},
   "outputs": [],
   "source": [
    "prediction_2 = model.predict(X_test_2)"
   ]
  },
  {
   "cell_type": "code",
   "execution_count": null,
   "metadata": {},
   "outputs": [],
   "source": [
    "from sklearn import metrics\n",
    "\n",
    "print('Mean Absolute Error (MAE):', metrics.mean_absolute_error(y_test_2, prediction_2))\n",
    "print('Mean Squared Error (MSE):', metrics.mean_squared_error(y_test_2, prediction_2))\n",
    "print('Root Mean Squared Error (RMSE):', np.sqrt(metrics.mean_squared_error(y_test_2, prediction_2)))\n",
    "print('R2:',metrics.r2_score(y_test_2, prediction_2))\n"
   ]
  },
  {
   "cell_type": "markdown",
   "metadata": {},
   "source": [
    "# Prediction SA0"
   ]
  },
  {
   "cell_type": "code",
   "execution_count": null,
   "metadata": {},
   "outputs": [],
   "source": [
    "#df_hotspot1_training_validation=pd.read_pickle(r'D:\\user\\seleem\\Urban_Inundation\\Divided_hotspots\\New\\Hotspot1\\Hotspot1_training_validation_U_Flood.pkl')\n",
    "df_RF_test_hotspot0=pd.read_pickle(r'D:\\user\\seleem\\Urban_Inundation\\Divided_hotspots\\New\\Final\\Data\\df_hotspot0_RF_test.pkl')\n",
    "df_RF_test_hotspot0"
   ]
  },
  {
   "cell_type": "code",
   "execution_count": null,
   "metadata": {},
   "outputs": [],
   "source": [
    "print(df_RF_test_hotspot0.isnull().sum())\n"
   ]
  },
  {
   "cell_type": "code",
   "execution_count": null,
   "metadata": {},
   "outputs": [],
   "source": [
    "df_RF_test_hotspot0 = df_RF_test_hotspot0.dropna()"
   ]
  },
  {
   "cell_type": "code",
   "execution_count": null,
   "metadata": {},
   "outputs": [],
   "source": [
    "df_RF_test_hotspot0.columns"
   ]
  },
  {
   "cell_type": "code",
   "execution_count": null,
   "metadata": {},
   "outputs": [],
   "source": [
    "df_RF_test_hotspot0"
   ]
  },
  {
   "cell_type": "code",
   "execution_count": null,
   "metadata": {},
   "outputs": [],
   "source": [
    "X0_test=df_RF_test_hotspot0\n",
    "X0_test"
   ]
  },
  {
   "cell_type": "code",
   "execution_count": null,
   "metadata": {},
   "outputs": [],
   "source": [
    "y0_test=X0_test['Depth']\n",
    "y0_test"
   ]
  },
  {
   "cell_type": "code",
   "execution_count": null,
   "metadata": {},
   "outputs": [],
   "source": [
    "X0_test=X0_test.drop(labels = [\"Depth\"], axis=1)\n",
    "X0_test"
   ]
  },
  {
   "cell_type": "code",
   "execution_count": null,
   "metadata": {},
   "outputs": [],
   "source": [
    "pred0_test=model.predict(X0_test)"
   ]
  },
  {
   "cell_type": "code",
   "execution_count": null,
   "metadata": {},
   "outputs": [],
   "source": [
    "nse = he.evaluator(he.nse, pred0_test, y0_test)\n",
    "nse"
   ]
  },
  {
   "cell_type": "code",
   "execution_count": null,
   "metadata": {},
   "outputs": [],
   "source": [
    "from sklearn import metrics\n",
    "\n",
    "print('Mean Absolute Error (MAE):', metrics.mean_absolute_error(y0_test, pred0_test))\n",
    "print('Mean Squared Error (MSE):', metrics.mean_squared_error(y0_test, pred0_test))\n",
    "print('Root Mean Squared Error (RMSE):', np.sqrt(metrics.mean_squared_error(y0_test, pred0_test)))\n",
    "print('R2:',metrics.r2_score(y0_test, pred0_test))\n"
   ]
  },
  {
   "cell_type": "markdown",
   "metadata": {},
   "source": [
    "# Warm start for SA0"
   ]
  },
  {
   "cell_type": "code",
   "execution_count": null,
   "metadata": {},
   "outputs": [],
   "source": [
    "# Here we add training data to the model from SA0 to improve its performance outside the training domain (SA1&2)"
   ]
  },
  {
   "cell_type": "code",
   "execution_count": null,
   "metadata": {},
   "outputs": [],
   "source": [
    "df_RF_train_hotspot0=pd.read_pickle(r'D:\\user\\seleem\\Urban_Inundation\\Divided_hotspots\\New\\Final\\Data\\df_hotspot0_RF_train.pkl')\n",
    "df_RF_train_hotspot0"
   ]
  },
  {
   "cell_type": "code",
   "execution_count": null,
   "metadata": {},
   "outputs": [],
   "source": [
    "X_train_hotspot0=df_RF_train_hotspot0.sample(frac=0.1,random_state=42)\n",
    "X_train_hotspot0"
   ]
  },
  {
   "cell_type": "code",
   "execution_count": null,
   "metadata": {},
   "outputs": [],
   "source": [
    "y_train_hotspot0=X_train_hotspot0['Depth']\n",
    "y_train_hotspot0\n"
   ]
  },
  {
   "cell_type": "code",
   "execution_count": null,
   "metadata": {},
   "outputs": [],
   "source": [
    "X_train_hotspot0=X_train_hotspot0.drop(labels = [\"Depth\"], axis=1)\n",
    "X_train_hotspot0"
   ]
  },
  {
   "cell_type": "code",
   "execution_count": null,
   "metadata": {},
   "outputs": [],
   "source": [
    "model.n_estimators"
   ]
  },
  {
   "cell_type": "code",
   "execution_count": null,
   "metadata": {},
   "outputs": [],
   "source": [
    "model.n_estimators += 10\n"
   ]
  },
  {
   "cell_type": "code",
   "execution_count": null,
   "metadata": {},
   "outputs": [],
   "source": [
    "model.n_estimators"
   ]
  },
  {
   "cell_type": "code",
   "execution_count": null,
   "metadata": {},
   "outputs": [],
   "source": [
    "from datetime import datetime\n",
    "start_time = datetime.now()\n",
    "# Train the model on training data\n",
    "model.fit(X_train_hotspot0, y_train_hotspot0)\n",
    "\n",
    "end_time = datetime.now()\n",
    "print('Duration: {}'.format(end_time - start_time))"
   ]
  },
  {
   "cell_type": "code",
   "execution_count": null,
   "metadata": {},
   "outputs": [],
   "source": [
    "prediction_hotspot0_v2 = model.predict(X0_test)"
   ]
  },
  {
   "cell_type": "code",
   "execution_count": null,
   "metadata": {},
   "outputs": [],
   "source": [
    "from sklearn import metrics\n",
    "\n",
    "print('Mean Absolute Error (MAE):', metrics.mean_absolute_error(y0_test, prediction_hotspot0_v2))\n",
    "print('Mean Squared Error (MSE):', metrics.mean_squared_error(y0_test, prediction_hotspot0_v2))\n",
    "print('Root Mean Squared Error (RMSE):', np.sqrt(metrics.mean_squared_error(y0_test, prediction_hotspot0_v2)))\n",
    "print('R2:',metrics.r2_score(y0_test, prediction_hotspot0_v2))\n"
   ]
  },
  {
   "cell_type": "code",
   "execution_count": null,
   "metadata": {},
   "outputs": [],
   "source": [
    "done"
   ]
  },
  {
   "cell_type": "code",
   "execution_count": null,
   "metadata": {},
   "outputs": [],
   "source": []
  }
 ],
 "metadata": {
  "kernelspec": {
   "display_name": "Python 3 (ipykernel)",
   "language": "python",
   "name": "python3"
  },
  "language_info": {
   "codemirror_mode": {
    "name": "ipython",
    "version": 3
   },
   "file_extension": ".py",
   "mimetype": "text/x-python",
   "name": "python",
   "nbconvert_exporter": "python",
   "pygments_lexer": "ipython3",
   "version": "3.10.2"
  }
 },
 "nbformat": 4,
 "nbformat_minor": 4
}
